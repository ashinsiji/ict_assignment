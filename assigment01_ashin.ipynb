{
  "nbformat": 4,
  "nbformat_minor": 0,
  "metadata": {
    "colab": {
      "provenance": [],
      "authorship_tag": "ABX9TyM89NXIjOVT+ugKwHyGSBtV",
      "include_colab_link": true
    },
    "kernelspec": {
      "name": "python3",
      "display_name": "Python 3"
    },
    "language_info": {
      "name": "python"
    }
  },
  "cells": [
    {
      "cell_type": "markdown",
      "metadata": {
        "id": "view-in-github",
        "colab_type": "text"
      },
      "source": [
        "<a href=\"https://colab.research.google.com/github/ashinsiji/ict_assignment/blob/main/assigment01_ashin.ipynb\" target=\"_parent\"><img src=\"https://colab.research.google.com/assets/colab-badge.svg\" alt=\"Open In Colab\"/></a>"
      ]
    },
    {
      "cell_type": "markdown",
      "source": [
        "1"
      ],
      "metadata": {
        "id": "79XAu9uJG-Wd"
      }
    },
    {
      "cell_type": "code",
      "source": [
        "a = int(input('enter item1 price: '))\n",
        "b = int(input('enter item1 quatity: '))\n",
        "c = int(input('enter item2 price: '))\n",
        "d = int(input('enter item2 quatity: '))\n",
        "t = a*b+c*d\n",
        "print(t)"
      ],
      "metadata": {
        "colab": {
          "base_uri": "https://localhost:8080/"
        },
        "id": "CQ80E_PlcNyj",
        "outputId": "43711385-c4d7-4647-ae4c-c94f2e5101bf"
      },
      "execution_count": null,
      "outputs": [
        {
          "output_type": "stream",
          "name": "stdout",
          "text": [
            "enter item1 price: 45\n",
            "enter item1 quatity: 3\n",
            "enter item2 price: 30\n",
            "enter item2 quatity: 2\n",
            "195\n"
          ]
        }
      ]
    },
    {
      "cell_type": "markdown",
      "source": [
        "2"
      ],
      "metadata": {
        "id": "ZocjsSHhHAxc"
      }
    },
    {
      "cell_type": "code",
      "source": [
        "c = int(input('enter temperature in celsius: '))\n",
        "f =(c*9/5)+32\n",
        "print(f)"
      ],
      "metadata": {
        "colab": {
          "base_uri": "https://localhost:8080/"
        },
        "id": "3vzMdfSUdqfq",
        "outputId": "370a0c28-a76f-45dc-ef98-138c456e8c86"
      },
      "execution_count": null,
      "outputs": [
        {
          "output_type": "stream",
          "name": "stdout",
          "text": [
            "enter temperature in celsius: 30\n",
            "86.0\n"
          ]
        }
      ]
    },
    {
      "cell_type": "markdown",
      "source": [
        "3"
      ],
      "metadata": {
        "id": "CZoW66XnHFYD"
      }
    },
    {
      "cell_type": "code",
      "source": [
        "a = float(input(\"enter the basic salary: \"))\n",
        "n = a+(0.20*a)+(0.10*a)\n",
        "print(\"nt salary: \",n)"
      ],
      "metadata": {
        "id": "NGOYMf6_igbt",
        "colab": {
          "base_uri": "https://localhost:8080/"
        },
        "outputId": "995d33ec-0b00-40be-c686-815b2a49a4e7"
      },
      "execution_count": null,
      "outputs": [
        {
          "output_type": "stream",
          "name": "stdout",
          "text": [
            "enter the basic salary: 20000\n",
            "nt salary:  26000.0\n"
          ]
        }
      ]
    },
    {
      "cell_type": "markdown",
      "source": [
        "4"
      ],
      "metadata": {
        "id": "T-9lPhrmHJxz"
      }
    },
    {
      "cell_type": "code",
      "source": [
        "P = float(input(\"enter principal: \"))\n",
        "R = float(input(\"enter rate of intrest: \"))\n",
        "T = float(input(\"enter time (in year): \"))\n",
        "si = (P*R*T)/100\n",
        "print(\"simple intrest =\" , si)"
      ],
      "metadata": {
        "colab": {
          "base_uri": "https://localhost:8080/"
        },
        "id": "oR_5DSFV6NRz",
        "outputId": "cd215c37-bb3b-4192-8ba5-5a260736ee58"
      },
      "execution_count": null,
      "outputs": [
        {
          "output_type": "stream",
          "name": "stdout",
          "text": [
            "enter principal: 10000\n",
            "enter rate of intrest: 5\n",
            "enter time (in year): 2\n",
            "simple intrest = 1000.0\n"
          ]
        }
      ]
    },
    {
      "cell_type": "markdown",
      "source": [
        "5"
      ],
      "metadata": {
        "id": "CigJvcxFHL2L"
      }
    },
    {
      "cell_type": "code",
      "source": [
        "total_minutes = int(input(\"Enter total minutes: \"))\n",
        "\n",
        "hours = total_minutes // 60\n",
        "minutes = total_minutes % 60\n",
        "\n",
        "print(f\"{hours} hours and {minutes} minutes\")"
      ],
      "metadata": {
        "colab": {
          "base_uri": "https://localhost:8080/"
        },
        "id": "PbG4VD0L6tuj",
        "outputId": "eb81c0aa-58e8-481b-9701-1d5e2a2b11e7"
      },
      "execution_count": null,
      "outputs": [
        {
          "output_type": "stream",
          "name": "stdout",
          "text": [
            "Enter total minutes: 130\n",
            "2 hours and 10 minutes\n"
          ]
        }
      ]
    },
    {
      "cell_type": "markdown",
      "source": [
        "6"
      ],
      "metadata": {
        "id": "I4G6IPbZHNKU"
      }
    },
    {
      "cell_type": "code",
      "source": [
        "weight = float(input(\"enter  weight in kg: \"))\n",
        "height = float(input(\"enter the height in m : \"))\n",
        "bmi = weight / (height * height)\n",
        "\n",
        "print(\"bmi =\" , bmi)"
      ],
      "metadata": {
        "colab": {
          "base_uri": "https://localhost:8080/"
        },
        "id": "aEgsSH5E7f7B",
        "outputId": "3be6ef32-6178-44a1-dc69-351259581677"
      },
      "execution_count": null,
      "outputs": [
        {
          "output_type": "stream",
          "name": "stdout",
          "text": [
            "enter  weight in kg: 60\n",
            "enter the height in m : 1.65\n",
            "bmi = 22.03856749311295\n"
          ]
        }
      ]
    },
    {
      "cell_type": "markdown",
      "source": [
        "7"
      ],
      "metadata": {
        "id": "RpvkEmecHPBj"
      }
    },
    {
      "cell_type": "code",
      "source": [
        "a = float(input(\"enter the  orginal price: \"))\n",
        "b = float(input(\"enter the discount price: \" ))\n",
        "d =a-(a*b)/100\n",
        "print(d)"
      ],
      "metadata": {
        "colab": {
          "base_uri": "https://localhost:8080/"
        },
        "id": "dnKZstTIACfk",
        "outputId": "71996d67-96f9-42a3-a0e9-06d3e3a109b3"
      },
      "execution_count": null,
      "outputs": [
        {
          "output_type": "stream",
          "name": "stdout",
          "text": [
            "enter the  orginal price: 1200\n",
            "enter the discount price: 10\n",
            "1080.0\n"
          ]
        }
      ]
    },
    {
      "cell_type": "markdown",
      "source": [
        "8"
      ],
      "metadata": {
        "id": "sGBllbTwHQ67"
      }
    },
    {
      "cell_type": "code",
      "source": [
        "a=float(input(\"Enter side a:\"))\n",
        "b=float(input(\"Enter side b:\"))\n",
        "c=float(input(\"Enter side c:\"))\n",
        "s=(a+b+c)/2\n",
        "area=(s*(s-a)*(s-b)*(s-c))**0.5\n",
        "print(area)"
      ],
      "metadata": {
        "colab": {
          "base_uri": "https://localhost:8080/"
        },
        "id": "osPBY2ZOCsxY",
        "outputId": "77764e90-d55a-4880-8c1f-e07c1dd5505d"
      },
      "execution_count": null,
      "outputs": [
        {
          "output_type": "stream",
          "name": "stdout",
          "text": [
            "Enter side a:5\n",
            "Enter side b:6\n",
            "Enter side c:7\n",
            "14.696938456699069\n"
          ]
        }
      ]
    },
    {
      "cell_type": "markdown",
      "source": [
        "9"
      ],
      "metadata": {
        "id": "Ix_-bKFnHS_L"
      }
    },
    {
      "cell_type": "code",
      "source": [
        "a=float(input(\"Enter wall length\"))\n",
        "b=float(input(\"Enter wall height\"))\n",
        "t=a*b\n",
        "w=2*(1.5*1.2)\n",
        "p=t-w\n",
        "print(\"total area painted\",p)\n",
        "c=p*25\n",
        "print(\"total cost\",c)"
      ],
      "metadata": {
        "colab": {
          "base_uri": "https://localhost:8080/"
        },
        "id": "cYlEra_YGTCs",
        "outputId": "bae264a9-b728-403c-dc22-bb021d0efd54"
      },
      "execution_count": null,
      "outputs": [
        {
          "output_type": "stream",
          "name": "stdout",
          "text": [
            "Enter wall length12\n",
            "Enter wall height8\n",
            "total area painted 92.4\n",
            "total cost 2310.0\n"
          ]
        }
      ]
    },
    {
      "cell_type": "markdown",
      "source": [
        "10"
      ],
      "metadata": {
        "id": "aiR6YUyPHctj"
      }
    },
    {
      "cell_type": "code",
      "source": [
        "a=float(input(\"Enter number of units consumed\"))\n",
        "b=(a*5.2)+100\n",
        "print(b)"
      ],
      "metadata": {
        "colab": {
          "base_uri": "https://localhost:8080/"
        },
        "id": "52wzBaHiGocM",
        "outputId": "38cf8bf7-876c-4515-e848-f0858fa5198c"
      },
      "execution_count": null,
      "outputs": [
        {
          "output_type": "stream",
          "name": "stdout",
          "text": [
            "Enter number of units consumed250\n",
            "1400.0\n"
          ]
        }
      ]
    }
  ]
}