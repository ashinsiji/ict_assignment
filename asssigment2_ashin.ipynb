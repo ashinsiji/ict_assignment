{
  "nbformat": 4,
  "nbformat_minor": 0,
  "metadata": {
    "colab": {
      "provenance": [],
      "authorship_tag": "ABX9TyMnpYYn1Fsl1bX9THFHqnYm",
      "include_colab_link": true
    },
    "kernelspec": {
      "name": "python3",
      "display_name": "Python 3"
    },
    "language_info": {
      "name": "python"
    }
  },
  "cells": [
    {
      "cell_type": "markdown",
      "metadata": {
        "id": "view-in-github",
        "colab_type": "text"
      },
      "source": [
        "<a href=\"https://colab.research.google.com/github/ashinsiji/ict_assignment/blob/main/asssigment2_ashin.ipynb\" target=\"_parent\"><img src=\"https://colab.research.google.com/assets/colab-badge.svg\" alt=\"Open In Colab\"/></a>"
      ]
    },
    {
      "cell_type": "markdown",
      "source": [
        "**1. FizzBuzz**"
      ],
      "metadata": {
        "id": "Ge8b6HUXBBQL"
      }
    },
    {
      "cell_type": "code",
      "source": [
        "num = int(input('enter a number between 1 to 100: '))\n",
        "if num%3==0 and num%5==0:\n",
        "   print('fizzbuzz')\n",
        "elif num%3==0:\n",
        "   print('fizz')\n",
        "elif num%5==0:\n",
        "   print('buzz')\n",
        "else:\n",
        "   print('not divisible')"
      ],
      "metadata": {
        "colab": {
          "base_uri": "https://localhost:8080/"
        },
        "id": "ciS8L2g2BEF8",
        "outputId": "2f5f41e6-41b1-4b67-a09e-de461ad5ef88"
      },
      "execution_count": 36,
      "outputs": [
        {
          "output_type": "stream",
          "name": "stdout",
          "text": [
            "enter a number between 1 to 100: 15\n",
            "fizzbuzz\n"
          ]
        }
      ]
    },
    {
      "cell_type": "markdown",
      "source": [
        "**2. Electricity Bill calculator**"
      ],
      "metadata": {
        "id": "lWP-kJeVIsUM"
      }
    },
    {
      "cell_type": "code",
      "source": [
        "n = int(input('enter the number of units consumed: '))\n",
        "total = 0\n",
        "\n",
        "if n<=100:\n",
        "  price = n*5\n",
        "elif n<=200:\n",
        "  price = (100*5) + (n-100)*7\n",
        "else:\n",
        "  price = (100*5) + (100*7) + ((n-200)*10)\n",
        "print(price)\n"
      ],
      "metadata": {
        "colab": {
          "base_uri": "https://localhost:8080/"
        },
        "id": "-u6ZC3FDI5Xj",
        "outputId": "28d75394-01e7-4647-cd21-0bddc4b1acc5"
      },
      "execution_count": 49,
      "outputs": [
        {
          "output_type": "stream",
          "name": "stdout",
          "text": [
            "enter the number of units consumed: 245\n",
            "1650\n"
          ]
        }
      ]
    },
    {
      "cell_type": "markdown",
      "source": [
        "**3. Display a pattern for a simple progress indicator.**\n"
      ],
      "metadata": {
        "id": "IEw52W64OTbe"
      }
    },
    {
      "cell_type": "code",
      "source": [
        "for i in range(1,6):\n",
        "  print('*' * i)"
      ],
      "metadata": {
        "colab": {
          "base_uri": "https://localhost:8080/"
        },
        "id": "84sBhVFnOq1N",
        "outputId": "f2238028-8645-4e7c-a86e-4b0a951870de"
      },
      "execution_count": 52,
      "outputs": [
        {
          "output_type": "stream",
          "name": "stdout",
          "text": [
            "*\n",
            "**\n",
            "***\n",
            "****\n",
            "*****\n"
          ]
        }
      ]
    },
    {
      "cell_type": "markdown",
      "source": [
        "**4. Palindrome**"
      ],
      "metadata": {
        "id": "StRQmR1VQlHb"
      }
    },
    {
      "cell_type": "code",
      "source": [
        "pal = str(input(\"Enter a number or string:\"))\n",
        "rev_pal = pal[::-1]\n",
        "\n",
        "if rev_pal == pal:\n",
        " print(pal,\"is a palindrome\")\n",
        "else:\n",
        " print(pal,\"is not a palindrome\")"
      ],
      "metadata": {
        "colab": {
          "base_uri": "https://localhost:8080/"
        },
        "id": "2P89y8HDO6JE",
        "outputId": "e931777b-bbd6-457b-9e5d-1fc5661c9e2d"
      },
      "execution_count": 54,
      "outputs": [
        {
          "output_type": "stream",
          "name": "stdout",
          "text": [
            "Enter a number or string:121\n",
            "121 is a palindrome\n"
          ]
        }
      ]
    },
    {
      "cell_type": "code",
      "source": [],
      "metadata": {
        "id": "HFz-r-N6Qasy"
      },
      "execution_count": null,
      "outputs": []
    }
  ]
}